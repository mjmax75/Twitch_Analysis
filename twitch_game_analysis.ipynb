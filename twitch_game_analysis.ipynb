{
 "cells": [
  {
   "cell_type": "markdown",
   "metadata": {},
   "source": [
    "## Introduction\n",
    "\n",
    "This project is part of the Data Science Career Path at Codecademy. It is a simple project to use both SQL and Python to analyze the Twitch data. The data used in this project can be found here. https://github.com/Codecademy/datasets/tree/master/twitch\n",
    "\n",
    "Twitch is an interactive livestreaming service for content spanning gaming, entertainment, sports, music, and more. - Twitch\n",
    "\n",
    "### Data Information\n",
    "There are 2 datasets used in this project, each with 800,000 rows.\n",
    "1. `stream` table: stream viewing data \n",
    "2. `chat` table: chat usage data"
   ]
  },
  {
   "cell_type": "markdown",
   "metadata": {},
   "source": [
    "### Using SQL\n",
    "\n",
    "What are the most popular games in the `stream` table?\n",
    "game |COUNT(game) |\n",
    "-----|-----| \n",
    "League of Legends|1070|\n",
    "Dota 2|472|\n",
    "Counter-Strike:Global Offensive|302|\n",
    "DayZ|239|\n",
    "Heroes of the Storm|210|\n",
    "The Binding of Isaac:Rebirth|171|\n",
    "Gaming Talk Shows|170|\n",
    "Hearthstone:Heroes of Warcraft|90|\n",
    "World of Tanks|86|\n",
    "Agar.io|71|\n",
    "Rocket League|49|\n",
    "SpeedRunners|20|\n",
    "ARK:Survival Evolved|19|\n",
    "Duck Game|5|\n",
    "Fallout 3|3|\n",
    "Batman:Arkham Knight|3|\n",
    "Breaking Point|2|\n",
    "Block N Load|2|\n",
    "Devil May Cry 4:Special Edition|1|\n",
    "0|0|"
   ]
  },
  {
   "cell_type": "markdown",
   "metadata": {},
   "source": [
    "What are the top 10 countries that these League of Legends viewers located?\n",
    "country|COUNT(country)|\n",
    "-----|-----| \n",
    "US|447|\n",
    "DE|66|\n",
    "CA|64|\n",
    "GB|45|\n",
    "TR|28|\n",
    "BR|25|\n",
    "DK|20|\n",
    "PL|19|\n",
    "NL|17|\n",
    "BE|17|"
   ]
  },
  {
   "cell_type": "markdown",
   "metadata": {},
   "source": [
    "What are the source that these user is using to view the stream?\n",
    "player|COUNT(player)|\n",
    "-----|-----| \n",
    "site|1365|\n",
    "iphone_t|622|\n",
    "android|547|\n",
    "ipad_t|290|\n",
    "embed|125|\n",
    "xbox_one|22|\n",
    "home|16|\n",
    "amazon|6|\n",
    "frontpage|4|\n",
    "xbox360|1|\n",
    "roku|1|\n",
    "chromecast|1|"
   ]
  },
  {
   "cell_type": "markdown",
   "metadata": {},
   "source": [
    "Group the games into their genres: Multiplayer Online Battle Arena (MOBA), First Person Shooter(FPS), Survival, and Other.\n",
    "\n",
    "game |genre|COUNT(game) |\n",
    "-----|-----|-----| \n",
    "League of Legends|MOBA|1070|\n",
    "Dota 2|MOBA|472|\n",
    "Counter-Strike:Global Offensive|FPS|302|\n",
    "DayZ|Survival|239|\n",
    "Heroes of the Storm|MOBA|210|\n",
    "The Binding of Isaac:Rebirth|Other|171|\n",
    "Gaming Talk Shows|Other|170|\n",
    "Hearthstone:Heroes of Warcraft|Other|90|\n",
    "World of Tanks|Other|86|\n",
    "Agar.io|Other|71|\n",
    "Rocket League|Other|49|\n",
    "SpeedRunners|Other|20|\n",
    "ARK:Survival Evolved|Other|19|\n",
    "Duck Game|Other|5|\n",
    "Fallout 3|Other|3|\n",
    "Batman:Arkham Knight|Other|3|\n",
    "Breaking Point|Other|2|\n",
    "Block N Load|Other|2|\n",
    "Devil May Cry 4:Special Edition|Other|1|\n",
    "0|Other|0|"
   ]
  },
  {
   "cell_type": "code",
   "execution_count": null,
   "metadata": {},
   "outputs": [],
   "source": []
  }
 ],
 "metadata": {
  "language_info": {
   "name": "python"
  },
  "orig_nbformat": 4
 },
 "nbformat": 4,
 "nbformat_minor": 2
}
